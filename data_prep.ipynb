{
 "cells": [
  {
   "attachments": {},
   "cell_type": "markdown",
   "metadata": {},
   "source": [
    "# DATA PREPARATION\n",
    "## For now I recommend doing all data prep in IDL. Sunpy has some things, but may are still in developement \n",
    "\n",
    "## AIA PREP   \n",
    ";Read in uncompressed data   \n",
    "IDL> read_sdo, filename, index, data   \n",
    ";Prep the data and write out as a fits file    \n",
    "IDL> aia_prep, index_in, data_in, index_out, data_out,/do_write_fits    \n",
    "\n",
    ";Example using a compressed image    \n",
    "IDL> read_sdo, ‘AIA20130607_175958_0131.fits’, header, image, /silent, /uncomp_delete   \n",
    ";Prep the data and write out as a fits file    \n",
    "IDL> aia_prep, header, image, new_header, new_image,/do_write_fits\n",
    "\n",
    "## IRIS PREP    \n",
    ";IRIS archive is local    \n",
    "IDL>read_iris,'/data/IRIS/level2_nrt/'+year+'/'+month+'/'+day+'/'+obsinfo+'/iris_l2_'+obsinfo+'_SJI_'+wav+'_t000.fits',index,rdata   \n",
    ";Prep IRIS data   \n",
    "IDL>iris_prep,index,rdata,oindex,odata       \n",
    ";Change struture to fits header    \n",
    "IDL>hdr = struct2fitshead(oindex)  \n",
    ";Write new fits to file \"example_out.fits\" (We have LEVEL 2 data locally, so this is really not needed)   \n",
    "writefits,'example_out.fits', odata, hdr    \n",
    "\n",
    "## XRT PREP\n",
    ";XRT archive is local    \n",
    "IDL>readcol,filelist,fitsfiles,format='A’\n",
    "IDL>all = indgen(n_elements(fitsfiles)-1)   \n",
    "IDL>xrt_prep,files,all,index,data,/float,coalign=0,/despike_despot,spotthresh=-1,/quiet    \n",
    ";Write XRT file   \n",
    "IDL> write_xrt,index,data\n"
   ]
  },
  {
   "cell_type": "code",
   "execution_count": null,
   "metadata": {
    "collapsed": true
   },
   "outputs": [],
   "source": []
  }
 ],
 "metadata": {
  "kernelspec": {
   "display_name": "Python 2",
   "language": "python",
   "name": "python2"
  },
  "language_info": {
   "codemirror_mode": {
    "name": "ipython",
    "version": 2
   },
   "file_extension": ".py",
   "mimetype": "text/x-python",
   "name": "python",
   "nbconvert_exporter": "python",
   "pygments_lexer": "ipython2",
   "version": "2.7.14"
  }
 },
 "nbformat": 4,
 "nbformat_minor": 2
}
