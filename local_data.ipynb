{
 "cells": [
  {
   "cell_type": "markdown",
   "metadata": {},
   "source": [
    "# Local Data"
   ]
  },
  {
   "cell_type": "markdown",
   "metadata": {},
   "source": [
    "## Browser (XRT)\n",
    "Here I will explain how to use \"browser\" to obtain data from the local XRT archive.\n",
    "\n",
    "1. Open up a terminal\n",
    "2. Type browser and hit return\n",
    "<img src=\"browser/launch.png\" />\n",
    "3. Then a pop up window titled \"Solar data browser\" will appear in the lower right \n",
    "<img src=\"browser/solar_data_browser.png\" />\n",
    "4. Select File then select \"Solar B XRT\"\n",
    "<img src=\"browser/select_xrt_small.png\" />\n",
    "5. A new pop up window will appear in the upper left (there will be many pop up windows to come)\n",
    "<img src=\"browser/xrt_popup_window.png\" />\n",
    "6. In the window you set a couple different local paths in \"starting path for FITS data:\"\n",
    "   1. /archive/hinode/xrt/QLraw/ (Useful for the most recent observations from XRT)\n",
    "   2. /archive/hinode/xrt/level0/ (Level 0 XRT archive, higher quality than QLraw but not reduced)\n",
    "   3. /archive/hinode/xrt/level1/ (Level 1 XRT archive, full reduced and exposure normalized) \n",
    "7. After setting the starting path (Generally Level 1), you can browse the files to ways.\n",
    "   1. Click \"list files\", which will create a new pop up listing all files broken down by hour (below) for the year, month, day of month (dom) shown in the above picture.\n",
    "<img src=\"browser/xrt_hour_list.png\" />\n",
    "      1. Click on the hour you are interested to get a new pop up window showing XRT files\n",
    "<img src=\"browser/xrt_data_hour_list.png\" />    \n",
    "__OR__    \n",
    "   2. Click \"selection tool\" (the only green button) in the upper left window, which creates a new pop up window.\n",
    "<img src=\"browser/xrt_selection_tool.png\" />\n",
    "<img src=\"browser/xrt_selection_tool_popup.png\" />\n",
    "      1. In the selection tool pop up window you should specify a date and time range in the \"from\" and \"until\" boxes\n",
    "      2. Then you may restrict the exposure time using the \"eposure\" boxes\n",
    "      3. You can also restrict the image size using the \"array nx\" and \"array ny\" boxes\n",
    "      4. XRT has two filter wheels with 5 filters per wheel (6 including open and no filter). Each wheel has a different set of filters. So a common observation includes a filter on one wheel and the \"open\" filter on the other wheel (e.g. Al_poly and Open or Open and Al_mesh).\n",
    "      5. You may also select XRT observations with certain keywords in the header by click \"FITS keywords\"\n",
    "<img src=\"browser/xrt_fits_keywords.png\" />\n",
    "\n",
    "\n"
   ]
  },
  {
   "cell_type": "code",
   "execution_count": null,
   "metadata": {
    "collapsed": true
   },
   "outputs": [],
   "source": []
  }
 ],
 "metadata": {
  "kernelspec": {
   "display_name": "Python 2",
   "language": "python",
   "name": "python2"
  },
  "language_info": {
   "codemirror_mode": {
    "name": "ipython",
    "version": 2
   },
   "file_extension": ".py",
   "mimetype": "text/x-python",
   "name": "python",
   "nbconvert_exporter": "python",
   "pygments_lexer": "ipython2",
   "version": "2.7.14"
  }
 },
 "nbformat": 4,
 "nbformat_minor": 2
}
