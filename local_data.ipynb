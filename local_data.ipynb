{
 "cells": [
  {
   "cell_type": "markdown",
   "metadata": {},
   "source": [
    "# Local Data"
   ]
  },
  {
   "cell_type": "markdown",
   "metadata": {},
   "source": [
    "## Browser (XRT)\n",
    "Here I will explain how to use \"browser\" to obtain data from the local XRT archive.\n",
    "\n",
    "1. Open up a terminal\n",
    "2. Type browser and hit return\n",
    "<img src=\"browser/launch.png\" />\n",
    "3. Then a pop up window titled \"Solar data browser\" will appear in the lower right \n",
    "<img src=\"browser/solar_data_browser.png\" />\n",
    "4. Select File then select \"Solar B XRT\"\n",
    "<img src=\"browser/select_xrt_small.png\" />\n",
    "5. A new pop up window will appear in the upper left (there will be many pop up windows to come)\n",
    "<img src=\"browser/xrt_popup_window.png\" />\n",
    "6. In the window you may set a couple different local paths in \"starting path for FITS data:\"\n",
    "   1. /archive/hinode/xrt/QLraw/ (Useful for the most recent observations from XRT)\n",
    "   2. /archive/hinode/xrt/level0/ (Level 0 XRT archive, higher quality than QLraw but not reduced)\n",
    "   3. /archive/hinode/xrt/level1/ (Level 1 XRT archive, full reduced and exposure normalized) \n",
    "7. After setting the starting path (Generally Level 1), you can browse the files to ways.\n",
    "   1. Click \"list files\", which will create a new pop up listing all files broken down by hour (below) for the year, month, day of month (dom) shown in the above picture.\n",
    "<img src=\"browser/xrt_hour_list.png\" />\n",
    "      1. Click on the hour you are interested to get a new pop up window showing XRT files\n",
    "<img src=\"browser/xrt_data_hour_list.png\" />    \n",
    "__OR__    \n",
    "   2. Click \"selection tool\" (the only green button) in the upper left window, which creates a new pop up window.\n",
    "<img src=\"browser/xrt_selection_tool.png\" />\n",
    "<img src=\"browser/xrt_selection_tool_popup.png\" />\n",
    "      1. In the selection tool pop up window you should specify a date and time range in the \"from\" and \"until\" boxes\n",
    "      2. Then you may restrict the exposure time using the \"eposure\" boxes\n",
    "      3. You can also restrict the image size using the \"array nx\" and \"array ny\" boxes\n",
    "      4. XRT has two filter wheels with 5 filters per wheel (6 including open and no filter). Each wheel has a different set of filters. So a common observation includes a filter on one wheel and the \"open\" filter on the other wheel (e.g. Al_poly and Open or Open and Al_mesh).\n",
    "      5. You may also select XRT observations with certain keywords in the header by click \"FITS keywords\"\n",
    "<img src=\"browser/xrt_fits_keywords.png\" />\n",
    "      6. Below is an example where I am looking for XRT observations on September 8th, 2017 with exposure time greater than 0.1s but less than 1s using 384x384 unbinned (CHIP_SUM = 1) Thin Be images in the southern hemisphere (CRVAL2 is Solar Y).\n",
    "<img src=\"browser/xrt_example_selection.png\" />\n",
    "      7. Clicking \"apply selection\" retrieves the files with that criteria and creates a pop up window with listed files similar to the hour selecting method.\n",
    "<img src=\"browser/xrt_select_example_output.png\" />\n",
    "8. Now if the returned files are the files you need you may copy the files to a list by specifying a file name where it currently says \"junk.list\" (in this example I changed it \"xrt_ar_12673_be_thin.list\") and click \"copy list to file:\". When you click \"copy list to file\" you create a new text file wherever you first launched browser.\n",
    "<img src=\"browser/xrt_copy_file_to_list.png\" />\n",
    "9. Clicking a file in the list creates two new pop up windows. One containing the header information, the other containing the image.\n",
    "<img src=\"browser/xrt_click_file_in_list.png\" />\n",
    "10. X-ray observation have a large dynamic range so you will want to log scale the image by clicking \"Display\" then \"image mapping\"\n",
    "<img src=\"browser/xrt_display_image_map.png\" />\n",
    "11. That creates a new pop up window. In that window select \"log\" in the \"mode :\" drop down\n",
    "<img src=\"browser/xrt_mode_log.png\" />\n",
    "12. Play with the max and min values then click \"redraw\" to update the XRT image\n",
    "<img src=\"browser/xrt_log_scale.png\" />\n",
    "13. When you found parameters you like you may click \"Dismiss\" to kill the scaling window.\n",
    "\n",
    "\n",
    "\n",
    "### Copying the Data locally\n",
    "There are advantages to copying the XRT FITS files to your local space. Primarily, it allows you to easily manipulate the files. In the above example, we \"created xrt_ar_12673_be_thin.list\" with Level 1 data. That list contains the Level 1 XRT FITS files, as well as, jp2 and jpeg files. We do not want the jp2 or jpeg files, so we may run the following command in the terminal to only copy the FITS files.   \n",
    "*tcsh> cat xrt_ar_12673_be_thin.list | grep fits | xargs -i{} cp '{}' .*   \n",
    "Breaking down the command cat puts the text from xrt_ar_12673_be_thin.list into the terminal. grep fits gets only the lines which contain the string \"fits\". xargs -i{} cp '{}' . says for every remaining line store that line as a variable called {} then copy the file in the line to the current location, which is denoted by the period.\n"
   ]
  },
  {
   "cell_type": "code",
   "execution_count": null,
   "metadata": {
    "collapsed": true
   },
   "outputs": [],
   "source": []
  }
 ],
 "metadata": {
  "kernelspec": {
   "display_name": "Python 2",
   "language": "python",
   "name": "python2"
  },
  "language_info": {
   "codemirror_mode": {
    "name": "ipython",
    "version": 2
   },
   "file_extension": ".py",
   "mimetype": "text/x-python",
   "name": "python",
   "nbconvert_exporter": "python",
   "pygments_lexer": "ipython2",
   "version": "2.7.14"
  }
 },
 "nbformat": 4,
 "nbformat_minor": 2
}
