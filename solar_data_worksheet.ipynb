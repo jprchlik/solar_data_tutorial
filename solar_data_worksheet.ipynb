{
 "cells": [
  {
   "cell_type": "markdown",
   "metadata": {},
   "source": [
    "# Solar Data Tutorial Worksheet \n",
    "Hello Solar REU interns at the CfA. This is a quick data tutorial, which hopefully will help with your summer reasearch."
   ]
  },
  {
   "cell_type": "markdown",
   "metadata": {},
   "source": [
    "## Helioviewer Example\n",
    "Helioviewer is a useful tool for exploration. Using JHelioviewer in particular may help you find interesting events. Here I will walk you through a quick example with JHelioviewer. \n",
    "\n",
    "You can launch JHelioviewer by clicking the JHelioviewer icon (below) in either Applications or your Dock.\n",
    "<img src=\"JHV_icon_small.png\" />\n"
   ]
  },
  {
   "cell_type": "markdown",
   "metadata": {},
   "source": [
    "# Data Download \n",
    "There are two primary ways to download data for Solar mission archives: websites and programming scripts.\n",
    "\n",
    "## WEBSITES\n",
    "### Virtual Solar Observatory ([VSO](https://sdac.virtualsolar.org/cgi/search))\n",
    " 1. Allows you to select certain parameters when looking for data\n",
    " <img src=\"vso_pic/vso_search_form.png\" />\n",
    " 2. Then click generate form\n",
    " 3. Select time range of interest (Currently in upper right)\n",
    " <img src=\"vso_pic/vso_time_range.png\" />\n",
    " 3. Select observatories to get data from (e.g. IRIS, AIA, XRT)\n",
    " <img src=\"vso_pic/vso_select_instr.png\" />\n",
    " 4. Select interested wavelenths (at bottom)\n",
    " <img src=\"vso_pic/vso_select_wavelengths.png\" />\n",
    " 5. When you are done click search (back in the time box)\n",
    " <img src=\"vso_pic/vso_time_range.png\" />\n",
    " 6. Select observations\n",
    "   1. One at a time \n",
    "   <img src=\"vso_pic/vso_select_observations.png\" />\n",
    "   2. All (on left hand side)\n",
    "   <img src=\"vso_pic/vso_select_all_box.png\" />\n",
    " 7. Request data from VSO (bottom left)\n",
    "   <img src=\"vso_pic/vso_request_data.png\" />\n",
    " 8. Download Data\n",
    "   1. Click on data to download **OR**\n",
    "   2. Click Export Links at bottom left and download via the following command where YYYY... is specific to your file\n",
    "      1. tcsh cat vso_export_YYYYMMDD_HHMMSS.csv | xargs wget\n",
    "\n",
    "\n"
   ]
  },
  {
   "cell_type": "markdown",
   "metadata": {},
   "source": [
    "### Joint Science Operations Center ([JSOC](http://jsoc.stanford.edu/ajax/lookdata.html))\n",
    "  1. Focused more on SDO observations but also has IRIS observations\n",
    "  2. Add text to the series filter name (e.g. aia, hmi, or iris) then click fetch seriesname list\n",
    "  <img src=\"jsoc_pic/jsoc_search_series.png\" />\n",
    "  3. Select a series, by clicking, from the list (I chose aia.lev1_euv_12s, which is the LEVEL 1 SDO/AIA EUV observations at a 12s cadence)\n",
    "  <img src='jsoc_pic/jsoc_select_series.png' />\n",
    "  4. Create a query for JSOC\n",
    "    1. Here I created a query of LEVEL 1 SDO/AIA EUV observations (aia.lev1_euv_12s) for 5 minutes (/5m) starting on September 8th, 2017 at 10:59:59 UTC (2017-09-08T10:59:59Z) at a 30 second cadence (@30s) using only the 171, 193, and 211 wavelengths ([171, 193, 211]). Then I clicked GetRecordCount to get the number of observations I am requesting (27).\n",
    "  <img src='jsoc_pic/jsoc_record_select_fix.png' />\n",
    "  5. If the request number is similar to what you expect (e.g. 2 observations per minute x 5 minutes x 3 wavelenths per observation = 30) then click Export Data in the top tool bar.\n",
    "  <img src='jsoc_pic/jsoc_click_export_data.png' />\n",
    "  6. Then click export again to be pedantic (don't worry you are not done clicking export yet)\n",
    "  <img src='jsoc_pic/jsoc_click_export_fix.png' />\n",
    "  7. Check the record count one more time (make sure in the example it is still 27)\n",
    "  8. Choose the method for delivery. I usually choose url-tar or ftp-tar because it packages everything nicely.\n",
    "  9. Fill in Notify with your email address (on your first attempt it will send you an email for verification)\n",
    "  10. Click Check Params for Export.\n",
    "  11. If everything is good click Submit Export Request (will be green after clicking Check Params for Export succeeds)\n",
    "  <img src='jsoc_pic/jsoc_export_request_generation_fix.png' />\n",
    "  12. Now check the JSOC Data Export Status and Retrieval at the bottom of the page and store the Request ID somewhere. I will save you in case your browser crashes or you accidentally close your browser. \n",
    "  13. Finally, you should get an email with the link, which you can click to download.\n",
    "  14. Sometimes you do not get an email, in which case keep the tap open and sparingly click Submit Status Request until the data is ready. Then click the link in Tar File Location.\n",
    "  <img src='jsoc_pic/jsoc_export_final.png' />\n"
   ]
  },
  {
   "cell_type": "markdown",
   "metadata": {},
   "source": [
    "## Progaming Scripts\n",
    "\n",
    "### IDL (SSWIDL)\n",
    ";Starting time   \n",
    "*t1 = '2017/09/08T11:00:00'*   \n",
    ";Ending time   \n",
    "*t2 = '2017/09/08T16:00:00'*   \n",
    ";Cadence to get data in seconds (30 minutes)   \n",
    "_cad = 30.*60._    \n",
    "\n",
    ";Search the VSO (previously used as a website) for SDO/HMI (inst='hmi') observations from JSOC (provider='jsoc') for line of sight magentic fields (physobs='los_magnetic_field') at a 30 minute cadence (sample=cad)   \n",
    "*s_f = vso_search(t1,t2,inst='hmi',provider='jsoc',physobs='los_magnetic_field',sample=cad)* \n",
    "\n",
    ";Or do the same thing for SDO/AIA observations   \n",
    ";Wavelengths of interest   \n",
    "wave = ['193','304','335']   \n",
    ";Search the VSO (previously used as a website) for SDO/AIA (inst='aia') observations from JSOC (provider='jsoc') for intensity observations (physobs='intensity') for wavelenths of 193, 304, and 335 Angstroms (wave=wave) at a 30 minute cadence (sample=cad)  \n",
    "*s_f = vso_search(t1,t2,inst='aia',provider='jsoc',physobs='intensity',sample=cad,wave=wave)*\n",
    "\n",
    "\n",
    ";The s_f variables contain the list of files to download from the VSO. To actually download you need two more lines.  \n",
    ";Set the output directory   \n",
    "*aia_arch = 'aia_arch/'*    \n",
    ";Download files to the output directory   \n",
    "*s_r = vso_get(s_f,out_dir=aia_arch,/FORCE)*\n",
    "\n",
    ";You can get more information by typing the following command   \n",
    "*xdoc,'vso_search'*"
   ]
  },
  {
   "cell_type": "markdown",
   "metadata": {},
   "source": [
    "### python ([Sunpy](http://docs.sunpy.org/en/v0.9.0/generated/gallery/skip_searching_vso.html))"
   ]
  },
  {
   "cell_type": "code",
   "execution_count": 5,
   "metadata": {},
   "outputs": [],
   "source": [
    "from sunpy.net import Fido, attrs\n",
    "from datetime import datetime, timedelta\n",
    "import astropy.units as u\n",
    "import os\n",
    "\n",
    "\n",
    "#Set a time of interest 2017/09/08 12:00:00 UTC\n",
    "dttime = datetime(2017,9,8,12,0,0)\n",
    "\n",
    "#output format for time string\n",
    "sform = '%Y/%m/%d %H:%M:%S'\n",
    "\n",
    "#Get time range around a given time\n",
    "dt = timedelta(seconds=60)\n",
    "\n",
    "#Get two minutes around dttime and covert to a string\n",
    "start = datetime.strftime(dttime-dt,sform)\n",
    "end = datetime.strftime(dttime+dt,sform)\n",
    "    \n",
    "#set time span\n",
    "time = attrs.Time(start,end)\n",
    "#grabs both stereo a and b\n",
    "ins = attrs.Instrument('aia')\n",
    "#grab 171 wavelength\n",
    "wave171 = attrs.Wavelength(171*u.AA)\n",
    "#grab 193 wavelength\n",
    "wave193 = attrs.Wavelength(193*u.AA)\n",
    "\n"
   ]
  },
  {
   "cell_type": "code",
   "execution_count": 8,
   "metadata": {},
   "outputs": [
    {
     "name": "stdout",
     "output_type": "stream",
     "text": [
      "[                                        ========================================\n",
      "[                                        ========================================\n"
     ]
    }
   ],
   "source": [
    "#Get list of files from VSO\n",
    "result = Fido.search(time,ins, wave171 | wave193)\n",
    "#download the files to the local directory\n",
    "out_path = os.getcwd()+\"/\"\n",
    "#Download the files\n",
    "dl_fil = Fido.fetch(result,path=out_path,wait=True)"
   ]
  },
  {
   "cell_type": "code",
   "execution_count": null,
   "metadata": {
    "collapsed": true
   },
   "outputs": [],
   "source": []
  }
 ],
 "metadata": {
  "kernelspec": {
   "display_name": "Python 2",
   "language": "python",
   "name": "python2"
  },
  "language_info": {
   "codemirror_mode": {
    "name": "ipython",
    "version": 2
   },
   "file_extension": ".py",
   "mimetype": "text/x-python",
   "name": "python",
   "nbconvert_exporter": "python",
   "pygments_lexer": "ipython2",
   "version": "2.7.14"
  }
 },
 "nbformat": 4,
 "nbformat_minor": 2
}
