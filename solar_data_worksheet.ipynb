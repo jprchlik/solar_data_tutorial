{
 "cells": [
  {
   "cell_type": "markdown",
   "metadata": {},
   "source": [
    "# Solar Data Tutorial Worksheet \n",
    "Hello Solar REU interns at the CfA. This is a quick data tutorial, which hopefully will help with your summer reasearch."
   ]
  },
  {
   "cell_type": "markdown",
   "metadata": {},
   "source": [
    "## Helioviewer Example\n",
    "Helioviewer is a useful tool for exploration. Using JHelioviewer in particular may help you find interesting events. Here I will walk you through a quick example with JHelioviewer. \n",
    "\n",
    "You can launch JHelioviewer by clicking the JHelioviewer icon (below) in either Applications or your Dock.\n",
    "<img src=\"JHV_icon_small.png\" />\n"
   ]
  },
  {
   "cell_type": "markdown",
   "metadata": {},
   "source": [
    "## Data Download \n",
    "There are two primary ways to download data for Solar mission archives: websites and programming scripts.\n",
    "\n",
    "### WEBSITES\n",
    "1. **Virtual Solar Observatory ([VSO](https://sdac.virtualsolar.org/cgi/search))**\n",
    "    1. Allows you to select certain parameters when looking for data\n",
    "    <img src=\"vso_pic/vso_search_form.png\" />\n",
    "    2. Then click generate form\n",
    "    3. Select time range of interest (Currently in upper right)\n",
    "    <img src=\"vso_pic/vso_time_range.png\" />\n",
    "    3. Select observatories to get data from (e.g. IRIS, AIA, XRT)\n",
    "    <img src=\"vso_pic/vso_select_instr.png\" />\n",
    "    4. Select interested wavelenths (at bottom)\n",
    "    <img src=\"vso_pic/vso_select_wavelengths.png\" />\n",
    "    5. When you are done click search (back in the time box)\n",
    "    <img src=\"vso_pic/vso_time_range.png\" />\n",
    "    6. Select observations\n",
    "      1. One at a time \n",
    "      <img src=\"vso_pic/vso_select_observations.png\" />\n",
    "      2. All (on left hand side)\n",
    "      <img src=\"vso_pic/vso_select_all_box.png\" />\n",
    "    7. Request data from VSO (bottom left)\n",
    "      <img src=\"vso_pic/vso_request_data.png\" />\n",
    "    8. Download Data\n",
    "      1. Click on data to download **OR**\n",
    "      2. Click Export Links at bottom left and download via the following command where YYYY... is specific to your file\n",
    "         1. tcsh cat vso_export_YYYYMMDD_HHMMSS.csv | xargs wget\n",
    "\n",
    "2. **Joint Science Operations Center ([JSOC](http://jsoc.stanford.edu/ajax/lookdata.html))**\n",
    "  1. Focused more on SDO observations but also has IRIS observations\n",
    "  2. \n",
    "\n"
   ]
  },
  {
   "cell_type": "code",
   "execution_count": null,
   "metadata": {
    "collapsed": true
   },
   "outputs": [],
   "source": []
  },
  {
   "cell_type": "code",
   "execution_count": null,
   "metadata": {
    "collapsed": true
   },
   "outputs": [],
   "source": []
  }
 ],
 "metadata": {
  "kernelspec": {
   "display_name": "Python 2",
   "language": "python",
   "name": "python2"
  },
  "language_info": {
   "codemirror_mode": {
    "name": "ipython",
    "version": 2
   },
   "file_extension": ".py",
   "mimetype": "text/x-python",
   "name": "python",
   "nbconvert_exporter": "python",
   "pygments_lexer": "ipython2",
   "version": "2.7.14"
  }
 },
 "nbformat": 4,
 "nbformat_minor": 2
}
